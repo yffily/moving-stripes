{
 "cells": [
  {
   "cell_type": "markdown",
   "metadata": {},
   "source": [
    "# Create a movie with a sequence of moving stripe patterns\n",
    "\n",
    "The movie consists of a sequence of patterns. Each pattern consists of an alternation of dark and light stripes moving at constant speed.\n",
    "\n",
    "The movie is meant to be played on a tablet placed under the fish. Before creating a movie, edit the cell below to reflect the screen size and resolution of your device's screen."
   ]
  },
  {
   "cell_type": "code",
   "execution_count": null,
   "metadata": {},
   "outputs": [],
   "source": [
    "import numpy as np\n",
    "import cv2\n",
    "import pandas as pd\n",
    "import os\n",
    "from os.path import exists, join\n",
    "from glob import glob\n",
    "import copy\n",
    "\n",
    "# Screen size and resolution:\n",
    "# Height: 1920 pixels / 24.46 cm \n",
    "# Width: 1200 pixels / 15.42 cm\n",
    "# Pixels per cm: 1920 px / 24.46 cm ≈ 1200 px / 15.42 cm ≈ 78 px/cm\n",
    "height_cm = 15.42\n",
    "width_cm  = 24.46\n",
    "cm_to_px  = 72"
   ]
  },
  {
   "cell_type": "markdown",
   "metadata": {},
   "source": [
    "### Define the function that creates a single-pattern movie"
   ]
  },
  {
   "cell_type": "code",
   "execution_count": null,
   "metadata": {},
   "outputs": [],
   "source": [
    "# Rectangular pattern: each stripe has uniform brightness; brightness changes\n",
    "# abruptly when going from a dark stripe to a bright one.\n",
    "def rect_pattern(i, color1, color2, period):\n",
    "    return np.where((i%period)<period/2,color1,color2)\n",
    "\n",
    "# Sine pattern: brightness changes smoothly, without abrupt change. Like a \n",
    "# blurred version of the rectangular pattern.\n",
    "def sine_pattern(i, color1, color2, period):\n",
    "    return 0.5 * (color2 - color1) * np.sin(2*np.pi*i/period) + 0.5 * (color1 + color2)\n",
    "\n",
    "pattern_functions = { 'sine':sine_pattern, 'rect':rect_pattern }\n",
    "\n",
    "def make_movie(output_file, duration, fps, color1, color2, period_cm, speed_cms, pattern):\n",
    "    \n",
    "    \"\"\"\n",
    "    output_file: path to the output video.\n",
    "    duration: video duration, in s.\n",
    "    fps: number of frames per second of the video.\n",
    "    color1,color2: colors between which the pattern oscillates (integer between 0=black and 255=white).\n",
    "    period: spatial period of the pattern, in cm.\n",
    "    speed: speed at which the pattern translates, in cm/s.\n",
    "    pattern_function: function that defines the desired spatial pattern. \n",
    "        Arguments: a pixel column index i, color1, color2, and period.\n",
    "        Output: the shade of gray column i should have in the desired pattern.\n",
    "    \"\"\"\n",
    "    \n",
    "    height_px        = int(height_cm * cm_to_px)\n",
    "    width_px         = int(width_cm * cm_to_px)\n",
    "    period_px        = period_cm * cm_to_px\n",
    "    speed_ppf        = speed_cms * cm_to_px / fps   # translation speed in pixels per frame\n",
    "    n_frames         = int(duration * fps)          # total number of frames in the video\n",
    "    \n",
    "    codec            = 'mp4v' # 'H264' # 'X264' # \n",
    "    fourcc           = cv2.VideoWriter_fourcc(*codec)\n",
    "#     fourcc           = 0x00000021\n",
    "    video            = cv2.VideoWriter(output_file, fourcc, float(fps), (width_px, height_px), isColor=False)\n",
    "#     print(video.isOpened())  # Check whether the video file was successfully initialized. \n",
    "    \n",
    "    frame            = np.zeros((height_px,width_px), dtype = np.uint8)\n",
    "    for n in range(n_frames):\n",
    "        shift = n*speed_ppf\n",
    "        for i in range(width_px):\n",
    "            frame[:,i] = pattern(i-shift, color1, color2, period_px)\n",
    "        video.write(frame)\n",
    "    video.release()\n",
    "    \n",
    "    return"
   ]
  },
  {
   "cell_type": "markdown",
   "metadata": {},
   "source": [
    "### Define the sequence of patterns that will form the full movie\n",
    "\n",
    "The sequence is saved as a spreadsheet. Each row of the spreadsheet corresponds to a pattern and contains all the parameter values needed to create the movie for that specific pattern. The full movie will be formed by putting those single-pattern movies back to back.\n",
    "\n",
    "Don't delete the spreadsheet; we'll need it to analyze the fish's behavior."
   ]
  },
  {
   "cell_type": "code",
   "execution_count": null,
   "metadata": {},
   "outputs": [],
   "source": [
    "# Lists of pattern parameters to include in the movie. \n",
    "period_list   = [2]        # Period of the light/dark pattern, in cm.\n",
    "speed_list    = [1]        # Speed at which the strips move, in cm/s.\n",
    "contrast_list = [255]      # Difference between the two stripe brightnesses. Max = 255 = black and white.\n",
    "n_repeat      = 3          # Number of repetitions for each pattern. 1 repetition = moving right then moving left.\n",
    "\n",
    "pattern_duration = 30       # Duration of each individual pattern, in seconds.\n",
    "\n",
    "args0 = dict( pattern_name='rect', duration=pattern_duration, fps=30, # rest of the parameters \n",
    "             color1=0, color2=255, period_cm=None, speed_cms=None )\n",
    "\n",
    "args_white = dict( pattern_name='rect', duration=pattern_duration, fps=30, # rest of the parameters \n",
    "                   color1=255, color2=255, period_cm=1, speed_cms=1 )\n",
    "\n",
    "df = pd.DataFrame()\n",
    "args_list = [args_white]\n",
    "for period in period_list:\n",
    "    for speed in speed_list:\n",
    "        for contrast in contrast_list:\n",
    "            for n in range(n_repeat):\n",
    "                for direction in [1,-1]:\n",
    "                    args = copy.deepcopy(args0)\n",
    "                    args['period_cm'] = period\n",
    "                    args['speed_cms'] = speed * direction\n",
    "                    args['color1']    = int(127.5-contrast/2)\n",
    "                    args['color2']    = args['color1']+contrast\n",
    "                    args_list += [args]\n",
    "args_list += [args_white]\n",
    "            \n",
    "df = pd.DataFrame(args_list)\n",
    "df['pattern_id'] = -1\n",
    "df['is_duplicate'] = df.duplicated()\n",
    "\n",
    "for i in df.index:\n",
    "    if not df.loc[i, 'is_duplicate']:\n",
    "        df.loc[i, 'pattern_id'] = i\n",
    "    else:\n",
    "        current = df.loc[i].to_dict()\n",
    "        del current['pattern_id']\n",
    "        del current['is_duplicate']\n",
    "        for j in range(i):\n",
    "            previous = df.loc[j].to_dict()\n",
    "            del previous['pattern_id']\n",
    "            del previous['is_duplicate']\n",
    "            if current == previous:\n",
    "                df.loc[i, 'pattern_id'] = j\n",
    "                break\n",
    "\n",
    "del df['is_duplicate']\n",
    "            \n",
    "display(df)\n",
    "df.to_excel('pattern_sequence.xlsx', index=False, engine='openpyxl')"
   ]
  },
  {
   "cell_type": "markdown",
   "metadata": {},
   "source": [
    "### Load the pattern spreadsheet and create the full movie"
   ]
  },
  {
   "cell_type": "code",
   "execution_count": null,
   "metadata": {
    "scrolled": true
   },
   "outputs": [],
   "source": [
    "tmp_dir = './tmp'\n",
    "\n",
    "def tmp_path(f):\n",
    "    d = './tmp'\n",
    "    if not os.path.exists(d):\n",
    "        os.mkdir(d)\n",
    "    return os.path.join(d,f)\n",
    "\n",
    "df = pd.read_excel('pattern_sequence.xlsx')\n",
    "# display(df)\n",
    "\n",
    "conc_file = tmp_path('files.txt')\n",
    "with open(conc_file, 'w') as f1:\n",
    "    for i in df.index:\n",
    "        args = df.loc[i].to_dict()\n",
    "        f2   = f'{args[\"pattern_id\"]}.mp4'\n",
    "        if args['pattern_id']==i:\n",
    "            args['pattern'] = pattern_functions[args['pattern_name']]\n",
    "            del args['pattern_id']\n",
    "            del args['pattern_name']\n",
    "            make_movie(output_file=tmp_path(f2), **args)\n",
    "        f1.write(f\"\\nfile '{f2}'\")\n",
    "\n",
    "# os.system(f'ffmpeg -y -f concat -safe 0 -i {conc_file} -c copy movie.mp4')\n",
    "os.system(f'ffmpeg -y -f concat -safe 0 -i {conc_file} -c:v libx264 movie.mp4')"
   ]
  }
 ],
 "metadata": {
  "kernelspec": {
   "display_name": "Python 3 (ipykernel)",
   "language": "python",
   "name": "python3"
  },
  "language_info": {
   "codemirror_mode": {
    "name": "ipython",
    "version": 3
   },
   "file_extension": ".py",
   "mimetype": "text/x-python",
   "name": "python",
   "nbconvert_exporter": "python",
   "pygments_lexer": "ipython3",
   "version": "3.12.4"
  }
 },
 "nbformat": 4,
 "nbformat_minor": 4
}
